{
 "cells": [
  {
   "cell_type": "code",
   "execution_count": 0,
   "metadata": {
    "application/vnd.databricks.v1+cell": {
     "cellMetadata": {
      "byteLimit": 2048000,
      "rowLimit": 10000
     },
     "collapsed": true,
     "inputWidgets": {},
     "nuid": "756d4454-9ae4-4efe-ac50-a3e2dd8723df",
     "showTitle": false,
     "tableResultSettingsMap": {},
     "title": ""
    }
   },
   "outputs": [],
   "source": [
    "# DATAFRAME DATA SELECTION EXAMPLES\n",
    "import numpy as np\n",
    "import pandas as pd\n",
    "df_stdnt = pd.DataFrame({ \n",
    "    'id'    : [1001,1002,1003,1004],\n",
    "    'Name'  : ['Ankit', 'Amit', 'Aishwarya', 'Priyanka'],\n",
    "    'Age'   : [21, 19, 24, 22],\n",
    "    'Stream': ['B.Tech', 'B.Tech', 'B.Tech', 'B.Sc'],\n",
    "    'Prcntg': [88, 92, 95, 70], \n",
    "    'mks'   : [880,920,950,490] }, index=['Row1', 'Row2', 'Row3', 'Row4'])\n",
    "print(\"One column selection:\\n\",df_stdnt['Prcntg']) \n",
    "print(\"Multi column selection:\\n\",df_stdnt[['Name','Prcntg']]) \n",
    "print(\"One Row selection:\\n\",df_stdnt[0:1]) \n",
    "print(\"Multi Row selection with slicing:\\n\",df_stdnt[-2:])\n",
    "## .loc rows\n",
    "print(\"Row selection with .LOC:\\n\",df_stdnt.loc[['Row2']]) \n",
    "print(\"Multi Row selection with .LOC:\\n\",df_stdnt.loc[['Row1','Row3']])\n",
    "## .iloc rows\n",
    "print(\"Row selection with .iLOC:\\n\",df_stdnt.iloc[[1]]) \n",
    "print(\"Multi Row selection with .iLOC:\\n\",df_stdnt.iloc[[0,2]])\n",
    "## .loc & .at specific cell\n",
    "print(\"Cell selection with .LOC:\",df_stdnt.loc['Row2','mks']) \n",
    "print(\"Cell selection with .AT:\",df_stdnt.at['Row2','mks']) \n",
    "## .iloc & iat specific cell\n",
    "print(\"Cell selection with .iLOC:\",df_stdnt.iloc[1,5]) \n",
    "print(\"Cell selection with .iAT:\",df_stdnt.iat[1,5]) \n",
    "## Boolean Indexing & macting set\n",
    "print(\"\\nBoolean Indexing:\\n\",df_stdnt[(df_stdnt['Prcntg'] <= 90) & (df_stdnt['Stream'] == 'B.Tech')]  ) \n",
    "print(\"\\nMatching set:\\n\",df_stdnt[ (df_stdnt['Age'].between(15,22)) & (df_stdnt['Stream'].isin(['B.Tech','B.Sc']))]) \n",
    "## Assigning values while selecting\n",
    "df_stdnt.loc['Row2','mks'] = 900\n",
    "print(\"Assigning values while selecting:\",df_stdnt.loc['Row2','mks'])\n",
    "## Query Method\n",
    "print(\"Query Method:\\n\",df_stdnt.query('Age <= 22 and Stream in [\"B.Tech\",\"B.Sc\"]'))"
   ]
  },
  {
   "cell_type": "code",
   "execution_count": 0,
   "metadata": {
    "application/vnd.databricks.v1+cell": {
     "cellMetadata": {
      "byteLimit": 2048000,
      "rowLimit": 10000
     },
     "collapsed": true,
     "inputWidgets": {},
     "nuid": "6a9a9a47-eee1-4c4e-8aad-48a0846a13a1",
     "showTitle": false,
     "tableResultSettingsMap": {},
     "title": ""
    }
   },
   "outputs": [],
   "source": [
    "\n",
    "# DATAFRAME EXAMPLES\n",
    "import numpy as np\n",
    "import pandas as pd\n",
    "List_data = [1, 2, 3, 4]\n",
    "Set_data = {1, 2, 3, 4, 5, 6, 7}\n",
    "tup_data = (1, 2, 3, 4)\n",
    "Dic_data = { 'id': [1001,1002,1003,1004],\n",
    "    'Name': ['Ankit', 'Amit', 'Aishwarya', 'Priyanka'],\n",
    "    'Age': [21, 19, 24, 22],\n",
    "    'Stream': ['B.Tech', 'B.Tech', 'B.Tech', 'B.Sc'],\n",
    "    'Percentage': [88, 92, 95, 70] }\n",
    "ldf1 = pd.DataFrame(data=List_data, index=['Row1', 'Row2', 'Row3', 'Row4'], columns=['List_data'])\n",
    "ldf2 = pd.DataFrame(data=Set_data, index=['Row1', 'Row2', 'Row3', 'Row4', 'Row5', 'Row6', 'Row7'], columns=['Set_data'])\n",
    "ldf3 = pd.DataFrame(data=tup_data, index=['Row1', 'Row2', 'Row3', 'Row4'], columns=['tup_data'])\n",
    "ldf4 = pd.DataFrame(data=Dic_data, index=['Row1', 'Row2', 'Row3', 'Row4'])\n",
    "print(\"List_data:\\n\",ldf1)\n",
    "print(\"Set_data:\\n\",ldf2)\n",
    "print(\"tup_data:\\n\",ldf3)\n",
    "print(\"Dic_data:\\n\",ldf4)"
   ]
  },
  {
   "cell_type": "code",
   "execution_count": 0,
   "metadata": {
    "application/vnd.databricks.v1+cell": {
     "cellMetadata": {
      "byteLimit": 2048000,
      "rowLimit": 10000
     },
     "collapsed": true,
     "inputWidgets": {},
     "nuid": "c6669445-ce7d-4a43-90f6-fb4be66a4cc4",
     "showTitle": false,
     "tableResultSettingsMap": {},
     "title": ""
    }
   },
   "outputs": [],
   "source": [
    "## SERIES EXAMPLE \n",
    "import numpy as np\n",
    "import pandas as pd\n",
    "# ##Series from the List\n",
    "# List_data = [1, 2, 3, 4]\n",
    "# ls1 = pd.Series(data=List_data, index=['A', 'B', 'C', 'D'], name='List_data' )\n",
    "# print(\"List_data:\\n\",ls1)\n",
    "\n",
    "# ##Series from the Set are not accepted because set is unordered\n",
    "# Set_data = {1, 2, 3, 4, 5, 6, 7}\n",
    "\n",
    "# ##Series from the Tuple'\n",
    "# tup_data = (1, 2, 3, 4, 5)\n",
    "# ts1 = pd.Series(data=tup_data, index=['A', 'B', 'C', 'D', 'E'], name='tup_data' )\n",
    "# print(\"tup_data:\\n\",ts1)\n",
    "\n",
    "# ##Series from the Dictionary\n",
    "# Dic_data = { 'id': [1001,1002,1003,1004],\n",
    "#     'Name': ['Ankit', 'Amit', 'Aishwarya', 'Priyanka'],\n",
    "#     'Age': [21, 19, 24, 22],\n",
    "#     'Stream': ['B.Tech', 'B.Tech', 'B.Tech', 'B.Sc'],\n",
    "#     'Percentage': [88, 92, 95, 70] }\n",
    "# ds1 = pd.Series(data=Dic_data, index=['id', 'Name', 'Age', 'Stream', 'Percentage'], name='Dic_data' )\n",
    "# print(\"Dic_data:\\n\",ds1)\n",
    "# ds1.name='Series_Dic_data'\n",
    "# print(\"Dictionary_data:\\n\",ds1.reset_index())\n",
    "\n",
    "srs1 = pd.Series(data=[1500, 2900, 1700, 200, 750, 1550], index=['D1','D2','D3','D4','D5','D7'], name='Week1_sales')\n",
    "srs2 = pd.Series(data=[500, 900, 2700, 1200, 1750, 950], index=['D1','D2','D3','D4','D5','D6'], name='Week2_sales')\n",
    "print(\"SRS1 + SRS2:\\n\",srs1.add(srs2))\n",
    "print(\"SRS1 + SRS2 with filling NaN with ZERO:\\n\",srs1.add(srs2, fill_value=0))\n",
    "\n",
    "\n"
   ]
  },
  {
   "cell_type": "code",
   "execution_count": 0,
   "metadata": {
    "application/vnd.databricks.v1+cell": {
     "cellMetadata": {
      "byteLimit": 2048000,
      "rowLimit": 10000
     },
     "collapsed": true,
     "inputWidgets": {},
     "nuid": "58ffd5ea-fbaa-421e-a6eb-a5e2666c66ce",
     "showTitle": false,
     "tableResultSettingsMap": {},
     "title": ""
    }
   },
   "outputs": [],
   "source": [
    "# Importing the numpy package with the alias np\n",
    "import numpy as np\n",
    "# Defining the matrix called my_matrix\n",
    "#my_matrix = np.array([[1, 4, 5], [10, 13, 9], [10, 8, 5]])\n",
    "my_matrix = np.array([[1, 4, 5,11], [10, 13, 9,12], [10, 8, 5,13],[1,0,2,14]])\n",
    "print(\"my_matrix :\\n\",my_matrix)\n",
    "# \")\n",
    "# Pick out every second row of my_matrix\n",
    "print(\"every second row of my_matrix :\",my_matrix[1::2])\n",
    "\n",
    "# Pick out every second column of my_matrix, but in reverse order\n",
    "print(\"every second column of my_matrix:\", np.flip(my_matrix[:,1::2]))"
   ]
  },
  {
   "cell_type": "code",
   "execution_count": 0,
   "metadata": {
    "application/vnd.databricks.v1+cell": {
     "cellMetadata": {
      "byteLimit": 2048000,
      "rowLimit": 10000
     },
     "collapsed": true,
     "inputWidgets": {},
     "nuid": "8a53173c-391d-4665-9d17-a3e8aef08aae",
     "showTitle": false,
     "tableResultSettingsMap": {},
     "title": ""
    }
   },
   "outputs": [],
   "source": [
    "import numpy as np\n",
    "from numpy import linalg as la\n",
    "my_matrix = np.arange(27).reshape(3, 3, 3)\n",
    "print(my_matrix)\n",
    "print(np.sum(my_matrix,axis=0))\n",
    "print(np.prod(my_matrix,axis=1))\n",
    "print(np.mean(my_matrix, axis=2))"
   ]
  },
  {
   "cell_type": "code",
   "execution_count": 0,
   "metadata": {
    "application/vnd.databricks.v1+cell": {
     "cellMetadata": {},
     "collapsed": true,
     "inputWidgets": {},
     "nuid": "abec1842-5f75-4f38-a1cc-9e440b458cd3",
     "showTitle": false,
     "tableResultSettingsMap": {},
     "title": ""
    }
   },
   "outputs": [],
   "source": []
  },
  {
   "cell_type": "code",
   "execution_count": 0,
   "metadata": {
    "application/vnd.databricks.v1+cell": {
     "cellMetadata": {
      "byteLimit": 2048000,
      "rowLimit": 10000
     },
     "collapsed": true,
     "inputWidgets": {},
     "nuid": "5ce0b715-58b1-409e-b15e-dc1baf928f1e",
     "showTitle": false,
     "tableResultSettingsMap": {},
     "title": ""
    }
   },
   "outputs": [],
   "source": [
    "import numpy as np\n",
    "from numpy import linalg as la\n",
    "arr1 = np.array([1,2,3])\n",
    "arr2 = np.array([2,3,4])\n",
    "mtrx1 = np.array([[1,2],[2,0]])\n",
    "if np.isclose(np.dot(arr1,arr2),0):\n",
    "    print(\"Vectors are perpendicular\")\n",
    "else:\n",
    "    print(\"Vectors are parallel\")\n",
    "print(np.dot(arr1, arr2))\n",
    "\n",
    "print(\"Angle between 2 vectors:\\n\", np.arccos(np.dot(arr1, arr2) / (np.linalg.norm(arr1) * np.linalg.norm(arr2))))"
   ]
  },
  {
   "cell_type": "code",
   "execution_count": 0,
   "metadata": {
    "application/vnd.databricks.v1+cell": {
     "cellMetadata": {
      "byteLimit": 2048000,
      "rowLimit": 10000
     },
     "collapsed": true,
     "inputWidgets": {},
     "nuid": "85468415-f13e-460c-8d2e-15d0ff7d4daf",
     "showTitle": false,
     "tableResultSettingsMap": {},
     "title": ""
    }
   },
   "outputs": [],
   "source": [
    "import numpy as np\n",
    "from numpy import linalg as la\n",
    "mtrx1 = np.array([[1,2],[2,0]])\n",
    "print(\"2x2 Identity Matrix:\\n\",np.eye(2))\n",
    "print(\"Determinant of Mtrx1:\\n\",np.linalg.det(mtrx1))\n",
    "print(\"inverse of Mtrx1:\\n\",np.linalg.inv(mtrx1))\n",
    "print(\"Mtrx1 @ inverse of Mtrx1:\\n\", np.linalg.inv(mtrx1) @ mtrx1)"
   ]
  },
  {
   "cell_type": "code",
   "execution_count": 0,
   "metadata": {
    "application/vnd.databricks.v1+cell": {
     "cellMetadata": {
      "byteLimit": 2048000,
      "rowLimit": 10000
     },
     "collapsed": true,
     "inputWidgets": {},
     "nuid": "3841bf71-b97e-4b5a-8f1d-40f0925a2608",
     "showTitle": false,
     "tableResultSettingsMap": {},
     "title": ""
    }
   },
   "outputs": [],
   "source": [
    "import numpy as np\n",
    "from numpy import linalg as la\n",
    "arr1 = np.array([2,3,5])\n",
    "arr2 = np.array([2,-1,9])\n",
    "mtrx1 = np.array([[9,8,7],[6,5,4], [3,2,1]])\n",
    "mtrx2 = np.array([[1,2,3],[4,5,6], [7,8,9]])\n",
    "mtrx3 = np.array([[10,5,1],[1,5,10]])\n",
    "mtrx4 = np.array([[1,2],[4,5], [7,8]])\n",
    "## basic operations\n",
    "print(\"Vector addition:--\", np.add(arr1, arr2))\n",
    "print(\"Vector subtraction:--\", np.subtract(arr1, arr2))\n",
    "print(\"Vector multiplication:--\", np.multiply(arr1, arr2))\n",
    "print(\"Vector division:--\", np.divide(arr1, arr2))\n",
    "print(\"Matrix addition:\\n\", np.add(mtrx1, mtrx2))\n",
    "print(\"Matrix subtraction:\\n\", np.subtract(mtrx1, mtrx2))\n",
    "print(\"Matrix multiplication:\\n\", np.multiply(mtrx1, mtrx2))\n",
    "print(\"Matrix division:\\n\", np.divide(mtrx1, mtrx2))\n",
    "print(\"Length of Vector:--\", np.linalg.norm(arr1))  \n",
    "print(\"Length of Matrix:--\", np.linalg.norm(mtrx1)) \n",
    "print(\"Angle between Vectors:--\", np.arccos(np.dot(arr1, arr2) / (np.linalg.norm(arr1) * np.linalg.norm(arr2))))\n",
    "\n",
    "## dot product\n",
    "print(\"Shape of Vectors:\\n Vctr1:\", arr1.shape,\"Vctr2:\", arr2.shape)\n",
    "print(\"Shape of Matrix:\\n Mtrx3:\", mtrx3.shape,\"Mtrx4:\", mtrx4.shape)\n",
    "print(\"Dot product of 2 Vectors (3X1 * 1X3):--\", np.dot(np.reshape(arr1,(1,3)), np.reshape(arr2,(3,1))))    # can use arr1 @ arr2\n",
    "print(\"Dot product of 2 matrix (2X3 * 3X2):\\n\", np.dot(mtrx3, mtrx4))                                       # can mtrx3 @ mtrx4 or np.matmul(mtrx3, mtrx4)\n",
    "\n"
   ]
  },
  {
   "cell_type": "code",
   "execution_count": 0,
   "metadata": {
    "application/vnd.databricks.v1+cell": {
     "cellMetadata": {
      "byteLimit": 2048000,
      "rowLimit": 10000
     },
     "collapsed": true,
     "inputWidgets": {},
     "nuid": "ebe96a6b-af37-4c8f-bf27-dd6f34543b5c",
     "showTitle": false,
     "tableResultSettingsMap": {},
     "title": ""
    }
   },
   "outputs": [],
   "source": [
    "import numpy as np\n",
    "mtrx1 = np.array([[9,8,7,0],[6,5,4,1], [3,2,1,2],[-6,-5,-4,3]])\n",
    "\n",
    "#print(mtrx1[:,0])\n",
    "#print(mtrx1[2,])\n",
    "#print(np.max(mtrx1,axis=1))\n",
    "# Pick out every second row of my_matrix\n",
    "print(mtrx1[1::2])\n",
    "# Pick out every second column of my_matrix, but in reverse order\n",
    "print(np.flip(mtrx1[:,1::2]))\n"
   ]
  },
  {
   "cell_type": "code",
   "execution_count": 0,
   "metadata": {
    "application/vnd.databricks.v1+cell": {
     "cellMetadata": {
      "byteLimit": 2048000,
      "rowLimit": 10000
     },
     "inputWidgets": {},
     "nuid": "92e60f14-094b-476a-b58d-2cf451a216f1",
     "showTitle": false,
     "tableResultSettingsMap": {},
     "title": ""
    }
   },
   "outputs": [],
   "source": [
    "import numpy as np\n",
    "arr1 = np.array([1,2,4])\n",
    "arr2 = np.array([2,-1,9])\n",
    "mtrx1 = np.array([[9,8,7],[6,5,4], [3,2,1]])\n",
    "mtrx2 = np.array([[1,2,3],[4,5,6], [7,8,9]])\n",
    "\n",
    "print(\"Multiplication of 2 matrix:\\n\", mtrx1 * mtrx2 )\n",
    "print(\"Multiplication of matrix and victor:\\n\", mtrx1 * np.reshape(arr1,(3,1)))\n",
    "print(\"product of 2 matrix:\\n\", mtrx1 @ mtrx2 )\n",
    "print(\"product of matrix and victor:\\n\", mtrx1 @ np.reshape(arr1,(3,1)))\n",
    "\n",
    "print(mtrx1[:1])\n"
   ]
  },
  {
   "cell_type": "code",
   "execution_count": 0,
   "metadata": {
    "application/vnd.databricks.v1+cell": {
     "cellMetadata": {
      "byteLimit": 2048000,
      "rowLimit": 10000
     },
     "inputWidgets": {},
     "nuid": "46dc671a-e08b-476a-88df-383f749ddb40",
     "showTitle": false,
     "tableResultSettingsMap": {},
     "title": ""
    }
   },
   "outputs": [],
   "source": [
    "import numpy as np\n",
    "arr1 = np.array([1,2,3,4,5,6])\n",
    "arr2 = np.array([[9,8,7],[6,5,4], [3,2,1]])\n",
    "arr3 = np.array([10,0,30])\n",
    "arr4 = np.array([[9,8,7],[6,5,4], [3,2,1]])\n",
    "# data addition \n",
    "print(\"append value:\\n\", np.append(arr1, 25))\n",
    "print(\"append array:\\n\", np.append(arr1, arr3))\n",
    "print(\"insert value:\\n\", np.insert(arr1, 3, 25))\n",
    "print(\"concatenate array:\\n\", np.concatenate((arr2, arr3.reshape(1,3)), axis=0))\n",
    "print(\"vertically stcak array:\\n\", np.vstack((arr2, arr3.reshape(1,3))))\n",
    "print(\"Horizantally stcak array:\\n\", np.hstack((arr2, arr3.reshape(3,1))))\n",
    "print(\"stcak array:\\n\", np.stack((arr2, arr4), axis=0))\n",
    "\n",
    "print(\"delete elemnet from array:\\n\", np.delete(arr1, 3))\n",
    "print(\"delete row from array:\\n\", np.delete(arr2, 2,axis=0))\n",
    "print(\"delete column from array:\\n\", np.delete(arr2, 2,axis=1))\n",
    "\n",
    "print(\"Place elemnet value in array:\\n\", arr1[np.place(arr1, arr1 < 4, 10)])\n",
    "print(\"put elemnet in array:\\n\", arr3[np.put(arr3, [1], [100])])\n",
    "print(\"copy to array:\\n\", arr3[np.copyto(arr3,99, where=arr3>99)])"
   ]
  },
  {
   "cell_type": "code",
   "execution_count": 0,
   "metadata": {
    "application/vnd.databricks.v1+cell": {
     "cellMetadata": {
      "byteLimit": 2048000,
      "rowLimit": 10000
     },
     "inputWidgets": {},
     "nuid": "8d47f7a2-459a-4a2e-98f2-82b39ccfb7e1",
     "showTitle": false,
     "tableResultSettingsMap": {},
     "title": ""
    }
   },
   "outputs": [],
   "source": [
    "import numpy as np\n",
    "arr1 = np.array([1,2,3,4,5,6])\n",
    "arr2 = np.array([[9,8,7],[6,5,4]])\n",
    "arr3 = np.array([10,0,30,4,0,6])\n",
    "print(\"Boolean masking:\\n\", arr1 > 3)\n",
    "print(\"Boolean masking:\\n\", arr2 > 5)\n",
    "\n",
    "print(\"Conditional selection:\\n\", arr1[arr1 % 2 == 0])\n",
    "print(\"Conditional selection:\\n\", arr2[(arr2 % 2 == 0) & (arr2 % 3 == 0)])\n",
    "\n",
    "arr2[arr2 > 6] = 55\n",
    "print(\"Conditional assinment:\\n\", arr2 )\n",
    "\n",
    "print(\"Array with where:\\n\", np.where(arr2 > 50, arr2 - 50, arr2))\n",
    "\n",
    "print(\"Array with nonZero:\\n\",arr3[np.nonzero(arr3 > 0)])\n",
    "\n",
    "print(\"Array with unique:\\n\",np.unique(arr3))"
   ]
  },
  {
   "cell_type": "code",
   "execution_count": 0,
   "metadata": {
    "application/vnd.databricks.v1+cell": {
     "cellMetadata": {
      "byteLimit": 2048000,
      "rowLimit": 10000
     },
     "inputWidgets": {},
     "nuid": "7cbbbbe3-6199-46df-b295-bf3fac605673",
     "showTitle": false,
     "tableResultSettingsMap": {},
     "title": ""
    }
   },
   "outputs": [],
   "source": [
    "\n",
    "import numpy as np\n",
    "arr1 = np.array([3,1,2,6,4,5])\n",
    "print(\"random values:\\n\",np.random.rand(2,2))\n",
    "print(\"random uniform values:\\n\",np.random.uniform(low=5, high=11,size=(2,2)))\n",
    "print(\"random integers values:\\n\",np.random.randint(low=1, high=100,size=(2,3)))\n",
    "\n",
    "print(\"random normal values:\\n\",np.random.normal(loc=1, scale=10,size=(2,3)))   # mean=0, std=1\n",
    "\n",
    "np.random.seed(50)\n",
    "print(\"random seed values:\\n\",np.random.rand(2,2))\n",
    "\n",
    "print(\"random shuffle values:\\n\",np.random.shuffle(arr1))\n",
    "\n",
    "print(\"random binomial values:\\n\",np.random.binomial(n=10, p=0.5, size=5))\n",
    "print(\"random poisson values:\\n\",np.random.poisson(lam=3, size=5))\n",
    "print(\"random beta values:\\n\",np.random.beta(a=1, b=10, size=4))\n",
    "\n",
    "print(\"random sampling values:\\n\",np.random.choice(arr1, size=3, replace=False)) "
   ]
  },
  {
   "cell_type": "code",
   "execution_count": 0,
   "metadata": {
    "application/vnd.databricks.v1+cell": {
     "cellMetadata": {
      "byteLimit": 2048000,
      "rowLimit": 10000
     },
     "inputWidgets": {},
     "nuid": "7decf20f-e5d7-4fc2-85f1-7592da7972c8",
     "showTitle": false,
     "tableResultSettingsMap": {},
     "title": ""
    }
   },
   "outputs": [],
   "source": [
    "import numpy as np\n",
    "arr1 = np.array([[3,1,2],[6,0,5]])\n",
    "print(\"Column wise Sorted Array:\", np.sort(arr1, axis = 0)) # Column wise Sorted array [[3 0 2] [6 1 5]]\n",
    "print(\"Row wise Sorted Array:\", np.sort(arr1, axis = 1)) # Row wise Sorted array [[1 2 3] [0 5 6]]\n",
    "print(\"Row wise Sorted Array in descending:\",np.sort(arr1)[::-1])\n",
    "print(np.argsort(arr1)) "
   ]
  },
  {
   "cell_type": "code",
   "execution_count": 0,
   "metadata": {
    "application/vnd.databricks.v1+cell": {
     "cellMetadata": {
      "byteLimit": 2048000,
      "rowLimit": 10000
     },
     "inputWidgets": {},
     "nuid": "b96ad4a9-5e1b-4f99-9ab1-ef7f79f15906",
     "showTitle": false,
     "tableResultSettingsMap": {},
     "title": ""
    }
   },
   "outputs": [],
   "source": [
    " ### Element wise operations\n",
    "import numpy as np\n",
    "arr1 = np.array([[1,2,3],[4,5,6]])\n",
    "arr2 = np.array([[9,8,7],[6,5,4]])\n",
    "\n",
    "print(\"Sum of Columns:\", np.sum(arr1, axis=0))   # sum of columns → [5, 7, 9]\n",
    "print(\"Sum of Rows:\",np.sum(arr1, axis=1))       # sum of rows    → [ 6, 15]\n",
    "print(\"Concatenated arrays:\",np.concatenate((arr1,arr2),axis = 1)) # concatenate arrays → [[1 2 3 9 8 7] [4 5 6 6 5 4]]\n",
    "arr3 = np.concatenate((arr1,arr2),axis = 0)\n",
    "print(\"min of rows:\", np.min(np.concatenate((arr1,arr2),axis = 1), axis=0)) #min of rows → [1, 2, 3, 6, 5, 4]\n",
    "print(arr3)  # [[1 2 3] [4 5 6] [9 8 7] [6 5 4]]\n",
    "print(\"deleted a row:\", np.delete(arr3, 3, axis=0)) # [[1 2 3] [4 5 6] [9 8 7]]\n",
    "print(\"re-shaped array :\", np.reshape(arr3, (3,4))) # [[1 2 3 4] [5 6 9 8] [7 6 5 4]]\n",
    "print\n",
    "      \n",
    "\n"
   ]
  },
  {
   "cell_type": "code",
   "execution_count": 0,
   "metadata": {
    "application/vnd.databricks.v1+cell": {
     "cellMetadata": {
      "byteLimit": 2048000,
      "rowLimit": 10000
     },
     "inputWidgets": {},
     "nuid": "6bceda15-c5a4-48dc-bb9f-7877c89db8fe",
     "showTitle": false,
     "tableResultSettingsMap": {},
     "title": ""
    }
   },
   "outputs": [],
   "source": [
    "import numpy as np\n",
    "arr1D = np.array([1,2,3,4,5,6])\n",
    "arr2D = np.array([[1,2,3.5],[9,\"Hello world\",7],[True,5,6]])\n",
    "arr3D = np.array([[[1,2,3,0],\n",
    "                  [9,8,7,0],\n",
    "                  [4,5,6,0]],\n",
    "                 [[10,11,12,0],\n",
    "                  [13,14,15,0],\n",
    "                  [16,17,18,0]]])\n",
    "\n",
    "arr2 = np.delete(arr2D, (2 * arr2D.shape[1] + 0))\n",
    "print(arr2)\n"
   ]
  },
  {
   "cell_type": "code",
   "execution_count": 0,
   "metadata": {
    "application/vnd.databricks.v1+cell": {
     "cellMetadata": {
      "byteLimit": 2048000,
      "rowLimit": 10000
     },
     "inputWidgets": {},
     "nuid": "8ed87724-2d97-4175-b988-d41e797d1dfe",
     "showTitle": false,
     "tableResultSettingsMap": {},
     "title": ""
    }
   },
   "outputs": [],
   "source": [
    "import numpy as np\n",
    "arr1D = np.array([1,2,3,4,5,6])\n",
    "arr2D = np.array([[1,2,3.5],[9,\"Hello world\",7],[True,5,6]])\n",
    "arr3D = np.array([[[1,2,3,0],\n",
    "                  [9,8,7,0],\n",
    "                  [4,5,6,0]],\n",
    "                 [[10,11,12,0],\n",
    "                  [13,14,15,0],\n",
    "                  [16,17,18,0]]])\n",
    "print(\"Array 1D shape: \",arr1D.shape)\n",
    "print(\"Array 1D ndim: \",arr1D.ndim)\n",
    "print(\"Array 1D dtype:\",arr1D.dtype)\n",
    "print(\"Array 1D size: \",arr1D.size)\n",
    "print(\"\\nArray 2D shape: \",arr2D.shape)\n",
    "print(\"Array 2D ndim: \",arr2D.ndim)\n",
    "print(\"Array 2D dtype: \",arr2D.dtype)\n",
    "print(\"Array 2D size: \",arr2D.size)\n",
    "print(\"\\nArray 3D shape: \",arr3D.shape)\n",
    "print(\"Array 3D ndim: \",arr3D.ndim)\n",
    "print(\"Array 3D dtype: \",arr3D.dtype)\n",
    "print(\"Array 3D size: \",arr3D.size)\n",
    "\n",
    "print(\"\\nArray 2D specific entity dtype: \",arr2D[1][1].dtype)"
   ]
  },
  {
   "cell_type": "code",
   "execution_count": 0,
   "metadata": {
    "application/vnd.databricks.v1+cell": {
     "cellMetadata": {
      "byteLimit": 2048000,
      "rowLimit": 10000
     },
     "inputWidgets": {},
     "nuid": "43ce8ef9-ffd7-4211-9f01-6a8e6095a7c6",
     "showTitle": false,
     "tableResultSettingsMap": {},
     "title": ""
    }
   },
   "outputs": [],
   "source": [
    "import numpy as np\n",
    "arr1D = np.array([1,2,3,4,5,6])\n",
    "arr2D = np.array([[1,2,3.5],[9,'Hello',7],[True,5,6]])\n",
    "arr3D = np.array([[[1,2,3,0],\n",
    "                  [9,8,7,0],\n",
    "                  [4,5,6,0]],\n",
    "                 [[10,11,12,0],\n",
    "                  [13,14,15,0],\n",
    "                  [16,17,18,0]]])\n",
    "print(\"Array 1D shape: \",arr1D.shape)\n",
    "print(\"Array 1D ndim: \",arr1D.ndim)\n",
    "print(\"Array 1D dtype:\",arr1D.dtype)\n",
    "print(\"Array 1D size: \",arr1D.size)\n",
    "print(\"\\nArray 2D shape: \",arr2D.shape)\n",
    "print(\"Array 2D ndim: \",arr2D.ndim)\n",
    "print(\"Array 2D dtype: \",arr2D.dtype)\n",
    "print(\"Array 2D size: \",arr2D.size)\n",
    "print(\"\\nArray 3D shape: \",arr3D.shape)\n",
    "print(\"Array 3D ndim: \",arr3D.ndim)\n",
    "print(\"Array 3D dtype: \",arr3D.dtype)\n",
    "print(\"Array 3D size: \",arr3D.size)"
   ]
  },
  {
   "cell_type": "code",
   "execution_count": 0,
   "metadata": {
    "application/vnd.databricks.v1+cell": {
     "cellMetadata": {},
     "inputWidgets": {},
     "nuid": "16ba27d7-aacf-4e6b-8291-49d661e99875",
     "showTitle": false,
     "tableResultSettingsMap": {},
     "title": ""
    }
   },
   "outputs": [],
   "source": []
  },
  {
   "cell_type": "code",
   "execution_count": 0,
   "metadata": {
    "application/vnd.databricks.v1+cell": {
     "cellMetadata": {
      "byteLimit": 2048000,
      "rowLimit": 10000
     },
     "inputWidgets": {},
     "nuid": "7612f7f7-5d07-459f-896d-369ccddd9408",
     "showTitle": false,
     "tableResultSettingsMap": {},
     "title": ""
    }
   },
   "outputs": [],
   "source": [
    "### Element wise operations\n",
    "import numpy as np\n",
    "arr1 = np.array([[1,2,3],[4,5,6]])\n",
    "arr2 = np.array([[9,8,7],[6,5,4]])\n",
    "print(\"Scalar addition:\\n\",arr1 + 10)\n",
    "print(\"Scalar multiplication:\\n\", arr1 * 10)\n",
    "print(\"array addition:\\n\",arr1 + arr2)\n",
    "print(\"array multiplication:\\n\", arr1 * arr2)\n",
    "\n",
    "print(\"SQRT function:\\n\",np.sqrt(arr1))\n",
    "print(\"LOG function:\\n\",np.log(arr1))\n",
    "print(\"EXP function:\\n\",np.exp(arr1)) \n",
    "print(\"SIN function:\\n\",np.sin(arr1))\n",
    "\n",
    "print(\"SUM function:\\n\",np.sum(arr1))\n",
    "print(\"MEAN function:\\n\",np.mean(arr1))\n",
    "print(\"STD function:\\n\",np.std(arr1))\n",
    "print(\"MIN function:\\n\",np.min(arr1))\n",
    "print(\"MAX function:\\n\",np.max(arr1))\n",
    "\n",
    "## AXIS wise operations\n",
    "print(\"Array1 :\\n\",arr1)\n",
    "print(\"ROW SUM function:\\n\",np.sum(arr1, axis=0))\n",
    "print(\"COL SUM function:\\n\",np.sum(arr1, axis=1))  \n",
    "print(\"MEAN function:\\n\",np.mean(arr1, axis=0))\n",
    "print(\"MEAN function:\\n\",np.mean(arr1, axis=1))\n",
    "print(\"STD function:\\n\",np.std(arr1, axis=0))\n",
    "print(\"MIN function:\\n\",np.min(arr1, axis=1))\n",
    "print(\"MAX function:\\n\",np.max(arr1, axis=0))\n",
    "\n"
   ]
  },
  {
   "cell_type": "code",
   "execution_count": 0,
   "metadata": {
    "application/vnd.databricks.v1+cell": {
     "cellMetadata": {
      "byteLimit": 2048000,
      "rowLimit": 10000
     },
     "inputWidgets": {},
     "nuid": "e0477acd-8c9b-4279-94ec-a9d0a3050aa3",
     "showTitle": false,
     "tableResultSettingsMap": {},
     "title": ""
    }
   },
   "outputs": [],
   "source": [
    "import numpy as np\n",
    "arr3D = np.array([[[1,2,3],\n",
    "                  [9,8,7],\n",
    "                  [4,5,6]],\n",
    "                 [[10,11,12],\n",
    "                  [13,14,15],\n",
    "                  [16,17,18]]])\n",
    "print(arr3D)\n",
    "print(arr3D.shape)\n"
   ]
  },
  {
   "cell_type": "code",
   "execution_count": 0,
   "metadata": {
    "application/vnd.databricks.v1+cell": {
     "cellMetadata": {
      "byteLimit": 2048000,
      "rowLimit": 10000
     },
     "inputWidgets": {},
     "nuid": "6cbdcf91-dbda-4781-911a-f56677ee0e3a",
     "showTitle": false,
     "tableResultSettingsMap": {},
     "title": ""
    }
   },
   "outputs": [],
   "source": [
    "## values assignement\n",
    "import numpy as np\n",
    "arr1D = np.array([1,2,3,4,5,6])\n",
    "arr2D = np.array([[1,2,3],[9,8,7],[4,5,6]])\n",
    "\n",
    "arr1D[-2] = 0\n",
    "print(arr1D)\n",
    "print(arr2D)\n"
   ]
  },
  {
   "cell_type": "code",
   "execution_count": 0,
   "metadata": {
    "application/vnd.databricks.v1+cell": {
     "cellMetadata": {
      "byteLimit": 2048000,
      "rowLimit": 10000
     },
     "inputWidgets": {},
     "nuid": "f115de4a-e4da-48c9-830b-9bf76ab0c052",
     "showTitle": false,
     "tableResultSettingsMap": {},
     "title": ""
    }
   },
   "outputs": [],
   "source": [
    "## Appending values to arrays\n",
    "import numpy as np\n",
    "arr = np.array([[1,2,3],[9,8,7],[4,5,6]])\n",
    "row = np.array([10,11,12])\n",
    "col = np.array([10,11,12])\n",
    "\n",
    "print(\"Original Array:\\n\", arr)\n",
    "# axis=0 for row, axis=1 for column, axis=None for flat\n",
    "# print(\"Append Row to the array:\\n\", np.append(arr, row, axis=0)) \n",
    "print(row.shape)  # (3,) , which is not same as (1,3) so not able to append as row\n",
    "row1 = row.reshape(1,3)\n",
    "print(\"Reshaped Row to the array:\", row1.shape)\n",
    "print(\"Append Row to the array:\\n\", np.append(arr, row1, axis=0))  \n",
    "\n",
    "print(col.shape)  # (3,) , which is not same as (3,1) so not able to append as col\n",
    "col1 = col.reshape(3,1)\n",
    "print(\"Reshaped col to the array:\", col1.shape)\n",
    "# print(\"Append Column to the array:\\n\", np.append(arr,col, axis=1))\n",
    "print(\"Append Column to the array:\\n\", np.append(arr,col1, axis=1))\n"
   ]
  },
  {
   "cell_type": "code",
   "execution_count": 0,
   "metadata": {
    "application/vnd.databricks.v1+cell": {
     "cellMetadata": {
      "byteLimit": 2048000,
      "rowLimit": 10000
     },
     "inputWidgets": {},
     "nuid": "f8a582ec-0836-461f-a899-d1588bfc7f50",
     "showTitle": false,
     "tableResultSettingsMap": {},
     "title": ""
    }
   },
   "outputs": [],
   "source": [
    "import numpy as np\n",
    "\n",
    "arr = np.array([5,7,-2,3])\n",
    "print(\"Array:\\n\", arr)\n",
    "\n",
    "arr1 = np.reshape(arr, (2,2)).transpose()\n",
    "print(\"Reshaped Array:\\n\", arr1)\n",
    "\n",
    "#arr1t = np.transpose(arr1)\n",
    "#print(\"Transposed Array:\\n\", arr1t)"
   ]
  },
  {
   "cell_type": "code",
   "execution_count": 0,
   "metadata": {
    "application/vnd.databricks.v1+cell": {
     "cellMetadata": {
      "byteLimit": 2048000,
      "rowLimit": 10000
     },
     "inputWidgets": {},
     "nuid": "71c0c436-b56e-4b80-8799-7786523c971c",
     "showTitle": false,
     "tableResultSettingsMap": {},
     "title": ""
    }
   },
   "outputs": [],
   "source": [
    "## Reprasent Matrix, Row, and Columns in 3D array\n",
    "import numpy as np \n",
    "\n",
    "arr = np.arange(24).reshape(2,3,4)\n",
    "print(\"shape:\\n\",np.shape(arr))\n",
    "print(\"array:\\n\",arr)\n",
    "\n",
    "print(\"print 3rd Rows:\\n\",arr[:,2,:])\n",
    "print(\"print 2ed column:\\n\",arr[:,:,1])"
   ]
  },
  {
   "cell_type": "code",
   "execution_count": 0,
   "metadata": {
    "application/vnd.databricks.v1+cell": {
     "cellMetadata": {},
     "inputWidgets": {},
     "nuid": "a417f089-ecb4-4d95-bc0e-5d3fab02433e",
     "showTitle": false,
     "tableResultSettingsMap": {},
     "title": ""
    }
   },
   "outputs": [],
   "source": [
    "## Matrix multiplication\n",
    "import numpy as np\n",
    "\n",
    "arr1 = np.array([[1,2,3],[4,5,6]])\n",
    "arr2 = np.array([[1,2],[3,4],[5,6]])\n",
    "print(\"First Array:\\n\", arr1)\n",
    "print(\"Second Array:\\n\", arr2)\n",
    "arr3 = np.dot(arr1,arr2)\n",
    "print(\"result:\\n\", arr3)"
   ]
  },
  {
   "cell_type": "code",
   "execution_count": 0,
   "metadata": {
    "application/vnd.databricks.v1+cell": {
     "cellMetadata": {},
     "inputWidgets": {},
     "nuid": "704fd974-eeae-4314-ae5b-abf2400941e9",
     "showTitle": false,
     "tableResultSettingsMap": {},
     "title": ""
    }
   },
   "outputs": [],
   "source": []
  },
  {
   "cell_type": "code",
   "execution_count": 0,
   "metadata": {
    "application/vnd.databricks.v1+cell": {
     "cellMetadata": {
      "byteLimit": 2048000,
      "rowLimit": 10000
     },
     "inputWidgets": {},
     "nuid": "07a2edeb-a502-4d3d-a31f-82480a859727",
     "showTitle": false,
     "tableResultSettingsMap": {},
     "title": ""
    }
   },
   "outputs": [],
   "source": [
    "import matplotlib.pyplot as plt\n",
    "import numpy as np\n",
    "\n",
    "#arr = np.arange(24).reshape(2,3,4)\n",
    "arr = np.array([[[255,55,113],[115,25,100],[11,45,180]], [[0,75,185],[215,100,10],[11,45,180]]])\n",
    "plt.imshow(arr)"
   ]
  },
  {
   "cell_type": "code",
   "execution_count": 0,
   "metadata": {
    "application/vnd.databricks.v1+cell": {
     "cellMetadata": {},
     "inputWidgets": {},
     "nuid": "ed7e0780-fed2-40b5-8f57-67854399c776",
     "showTitle": false,
     "tableResultSettingsMap": {},
     "title": ""
    }
   },
   "outputs": [],
   "source": []
  }
 ],
 "metadata": {
  "application/vnd.databricks.v1+notebook": {
   "computePreferences": {
    "hardware": {
     "accelerator": null,
     "gpuPoolId": null,
     "memory": null
    }
   },
   "dashboards": [],
   "environmentMetadata": {
    "base_environment": "",
    "environment_version": "2"
   },
   "inputWidgetPreferences": null,
   "language": "python",
   "notebookMetadata": {
    "pythonIndentUnit": 4
   },
   "notebookName": "01_Python_numpy_POC_work_examples",
   "widgets": {}
  },
  "language_info": {
   "name": "python"
  }
 },
 "nbformat": 4,
 "nbformat_minor": 0
}
